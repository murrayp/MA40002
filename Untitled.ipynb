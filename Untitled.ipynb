{
 "cells": [
  {
   "cell_type": "code",
   "execution_count": 1,
   "id": "bf579e93-f4a3-4271-8559-e63704b7ff20",
   "metadata": {
    "tags": []
   },
   "outputs": [],
   "source": [
    "import sympy as sym\n",
    "a = sym.Rational(1, 2)"
   ]
  },
  {
   "cell_type": "code",
   "execution_count": 2,
   "id": "697f823d-7e09-4547-b0c4-89d04fa9c355",
   "metadata": {
    "tags": []
   },
   "outputs": [
    {
     "data": {
      "text/latex": [
       "$\\displaystyle \\frac{1}{2}$"
      ],
      "text/plain": [
       "1/2"
      ]
     },
     "execution_count": 2,
     "metadata": {},
     "output_type": "execute_result"
    }
   ],
   "source": [
    "a"
   ]
  },
  {
   "cell_type": "code",
   "execution_count": 3,
   "id": "6b379c51-1d3f-4794-a2b0-50ffaaab2b05",
   "metadata": {
    "tags": []
   },
   "outputs": [
    {
     "data": {
      "text/latex": [
       "$\\displaystyle \\pi^{2}$"
      ],
      "text/plain": [
       "pi**2"
      ]
     },
     "execution_count": 3,
     "metadata": {},
     "output_type": "execute_result"
    }
   ],
   "source": [
    "sym.pi**2"
   ]
  },
  {
   "cell_type": "code",
   "execution_count": 4,
   "id": "e56c252c-fa9c-48b8-b60b-e64f5fcc073b",
   "metadata": {
    "tags": []
   },
   "outputs": [
    {
     "data": {
      "text/latex": [
       "$\\displaystyle 3.14159265358979$"
      ],
      "text/plain": [
       "3.14159265358979"
      ]
     },
     "execution_count": 4,
     "metadata": {},
     "output_type": "execute_result"
    }
   ],
   "source": [
    "sym.pi.evalf()\n"
   ]
  },
  {
   "cell_type": "code",
   "execution_count": 5,
   "id": "8773c861-d134-4f9c-8764-afe55b8bfcd7",
   "metadata": {
    "tags": []
   },
   "outputs": [
    {
     "data": {
      "text/latex": [
       "$\\displaystyle \\text{True}$"
      ],
      "text/plain": [
       "True"
      ]
     },
     "execution_count": 5,
     "metadata": {},
     "output_type": "execute_result"
    }
   ],
   "source": [
    "sym.oo > 99999"
   ]
  },
  {
   "cell_type": "code",
   "execution_count": 6,
   "id": "86008b51-89e4-40bb-9da3-214df7316417",
   "metadata": {
    "tags": []
   },
   "outputs": [],
   "source": [
    "x = sym.Symbol('x')\n",
    "y = sym.Symbol('y')"
   ]
  },
  {
   "cell_type": "code",
   "execution_count": 9,
   "id": "26e02ec3-324f-4744-8614-5f0d64e22548",
   "metadata": {
    "tags": []
   },
   "outputs": [
    {
     "name": "stderr",
     "output_type": "stream",
     "text": [
      "<>:3: SyntaxWarning: 'int' object is not callable; perhaps you missed a comma?\n",
      "<>:3: SyntaxWarning: 'int' object is not callable; perhaps you missed a comma?\n",
      "<>:3: SyntaxWarning: 'int' object is not callable; perhaps you missed a comma?\n",
      "<>:3: SyntaxWarning: 'int' object is not callable; perhaps you missed a comma?\n",
      "<>:3: SyntaxWarning: 'int' object is not callable; perhaps you missed a comma?\n",
      "<>:3: SyntaxWarning: 'int' object is not callable; perhaps you missed a comma?\n",
      "/var/folders/_4/lc6mmf0n3h1_11w9pnxhcnyh0000gq/T/ipykernel_90519/3963549859.py:3: SyntaxWarning: 'int' object is not callable; perhaps you missed a comma?\n",
      "  x(x + y) ** 2(x + y) ** 2(x + y) ** 2(x + y) ** 2\n",
      "/var/folders/_4/lc6mmf0n3h1_11w9pnxhcnyh0000gq/T/ipykernel_90519/3963549859.py:3: SyntaxWarning: 'int' object is not callable; perhaps you missed a comma?\n",
      "  x(x + y) ** 2(x + y) ** 2(x + y) ** 2(x + y) ** 2\n",
      "/var/folders/_4/lc6mmf0n3h1_11w9pnxhcnyh0000gq/T/ipykernel_90519/3963549859.py:3: SyntaxWarning: 'int' object is not callable; perhaps you missed a comma?\n",
      "  x(x + y) ** 2(x + y) ** 2(x + y) ** 2(x + y) ** 2\n",
      "/var/folders/_4/lc6mmf0n3h1_11w9pnxhcnyh0000gq/T/ipykernel_90519/3963549859.py:3: SyntaxWarning: 'int' object is not callable; perhaps you missed a comma?\n",
      "  x(x + y) ** 2(x + y) ** 2(x + y) ** 2(x + y) ** 2\n",
      "/var/folders/_4/lc6mmf0n3h1_11w9pnxhcnyh0000gq/T/ipykernel_90519/3963549859.py:3: SyntaxWarning: 'int' object is not callable; perhaps you missed a comma?\n",
      "  x(x + y) ** 2(x + y) ** 2(x + y) ** 2(x + y) ** 2\n",
      "/var/folders/_4/lc6mmf0n3h1_11w9pnxhcnyh0000gq/T/ipykernel_90519/3963549859.py:3: SyntaxWarning: 'int' object is not callable; perhaps you missed a comma?\n",
      "  x(x + y) ** 2(x + y) ** 2(x + y) ** 2(x + y) ** 2\n",
      "/var/folders/_4/lc6mmf0n3h1_11w9pnxhcnyh0000gq/T/ipykernel_90519/3963549859.py:3: SyntaxWarning: 'int' object is not callable; perhaps you missed a comma?\n",
      "  x(x + y) ** 2(x + y) ** 2(x + y) ** 2(x + y) ** 2\n",
      "/var/folders/_4/lc6mmf0n3h1_11w9pnxhcnyh0000gq/T/ipykernel_90519/3963549859.py:3: SyntaxWarning: 'int' object is not callable; perhaps you missed a comma?\n",
      "  x(x + y) ** 2(x + y) ** 2(x + y) ** 2(x + y) ** 2\n",
      "/var/folders/_4/lc6mmf0n3h1_11w9pnxhcnyh0000gq/T/ipykernel_90519/3963549859.py:3: SyntaxWarning: 'int' object is not callable; perhaps you missed a comma?\n",
      "  x(x + y) ** 2(x + y) ** 2(x + y) ** 2(x + y) ** 2\n",
      "/var/folders/_4/lc6mmf0n3h1_11w9pnxhcnyh0000gq/T/ipykernel_90519/3963549859.py:3: SyntaxWarning: 'int' object is not callable; perhaps you missed a comma?\n",
      "  x(x + y) ** 2(x + y) ** 2(x + y) ** 2(x + y) ** 2\n",
      "/var/folders/_4/lc6mmf0n3h1_11w9pnxhcnyh0000gq/T/ipykernel_90519/3963549859.py:3: SyntaxWarning: 'int' object is not callable; perhaps you missed a comma?\n",
      "  x(x + y) ** 2(x + y) ** 2(x + y) ** 2(x + y) ** 2\n",
      "/var/folders/_4/lc6mmf0n3h1_11w9pnxhcnyh0000gq/T/ipykernel_90519/3963549859.py:3: SyntaxWarning: 'int' object is not callable; perhaps you missed a comma?\n",
      "  x(x + y) ** 2(x + y) ** 2(x + y) ** 2(x + y) ** 2\n",
      "/var/folders/_4/lc6mmf0n3h1_11w9pnxhcnyh0000gq/T/ipykernel_90519/3963549859.py:3: SyntaxWarning: 'int' object is not callable; perhaps you missed a comma?\n",
      "  x(x + y) ** 2(x + y) ** 2(x + y) ** 2(x + y) ** 2\n",
      "/var/folders/_4/lc6mmf0n3h1_11w9pnxhcnyh0000gq/T/ipykernel_90519/3963549859.py:3: SyntaxWarning: 'int' object is not callable; perhaps you missed a comma?\n",
      "  x(x + y) ** 2(x + y) ** 2(x + y) ** 2(x + y) ** 2\n",
      "/var/folders/_4/lc6mmf0n3h1_11w9pnxhcnyh0000gq/T/ipykernel_90519/3963549859.py:3: SyntaxWarning: 'int' object is not callable; perhaps you missed a comma?\n",
      "  x(x + y) ** 2(x + y) ** 2(x + y) ** 2(x + y) ** 2\n",
      "/var/folders/_4/lc6mmf0n3h1_11w9pnxhcnyh0000gq/T/ipykernel_90519/3963549859.py:3: SyntaxWarning: 'int' object is not callable; perhaps you missed a comma?\n",
      "  x(x + y) ** 2(x + y) ** 2(x + y) ** 2(x + y) ** 2\n",
      "/var/folders/_4/lc6mmf0n3h1_11w9pnxhcnyh0000gq/T/ipykernel_90519/3963549859.py:3: SyntaxWarning: 'int' object is not callable; perhaps you missed a comma?\n",
      "  x(x + y) ** 2(x + y) ** 2(x + y) ** 2(x + y) ** 2\n",
      "/var/folders/_4/lc6mmf0n3h1_11w9pnxhcnyh0000gq/T/ipykernel_90519/3963549859.py:3: SyntaxWarning: 'int' object is not callable; perhaps you missed a comma?\n",
      "  x(x + y) ** 2(x + y) ** 2(x + y) ** 2(x + y) ** 2\n"
     ]
    },
    {
     "ename": "TypeError",
     "evalue": "'Symbol' object is not callable",
     "output_type": "error",
     "traceback": [
      "\u001b[0;31m---------------------------------------------------------------------------\u001b[0m",
      "\u001b[0;31mTypeError\u001b[0m                                 Traceback (most recent call last)",
      "Cell \u001b[0;32mIn[9], line 3\u001b[0m\n\u001b[1;32m      1\u001b[0m x\u001b[38;5;241m+\u001b[39my\n\u001b[1;32m      2\u001b[0m x\n\u001b[0;32m----> 3\u001b[0m \u001b[43mx\u001b[49m\u001b[43m(\u001b[49m\u001b[43mx\u001b[49m\u001b[43m \u001b[49m\u001b[38;5;241;43m+\u001b[39;49m\u001b[43m \u001b[49m\u001b[43my\u001b[49m\u001b[43m)\u001b[49m \u001b[38;5;241m*\u001b[39m\u001b[38;5;241m*\u001b[39m \u001b[38;5;241m2\u001b[39m(x \u001b[38;5;241m+\u001b[39m y) \u001b[38;5;241m*\u001b[39m\u001b[38;5;241m*\u001b[39m \u001b[38;5;241m2\u001b[39m(x \u001b[38;5;241m+\u001b[39m y) \u001b[38;5;241m*\u001b[39m\u001b[38;5;241m*\u001b[39m \u001b[38;5;241m2\u001b[39m(x \u001b[38;5;241m+\u001b[39m y) \u001b[38;5;241m*\u001b[39m\u001b[38;5;241m*\u001b[39m \u001b[38;5;241m2\u001b[39m\n",
      "\u001b[0;31mTypeError\u001b[0m: 'Symbol' object is not callable"
     ]
    }
   ],
   "source": [
    "x+y\n",
    "x\n",
    "x(x + y) ** 2(x + y) ** 2(x + y) ** 2(x + y) ** 22"
   ]
  },
  {
   "cell_type": "code",
   "execution_count": null,
   "id": "202f1dca-db3a-4e95-8f8a-11b7a1ffa272",
   "metadata": {},
   "outputs": [],
   "source": []
  },
  {
   "cell_type": "code",
   "execution_count": null,
   "id": "cd7500d7-e17c-4221-b02d-5f817077fb8a",
   "metadata": {},
   "outputs": [],
   "source": []
  }
 ],
 "metadata": {
  "kernelspec": {
   "display_name": "Python 3 (ipykernel)",
   "language": "python",
   "name": "python3"
  },
  "language_info": {
   "codemirror_mode": {
    "name": "ipython",
    "version": 3
   },
   "file_extension": ".py",
   "mimetype": "text/x-python",
   "name": "python",
   "nbconvert_exporter": "python",
   "pygments_lexer": "ipython3",
   "version": "3.9.18"
  }
 },
 "nbformat": 4,
 "nbformat_minor": 5
}
